{
 "cells": [
  {
   "cell_type": "markdown",
   "id": "b66df5ec-33fb-4512-99e7-aab71dad3eeb",
   "metadata": {},
   "source": [
    "# Read Me ! (à changer, dire d'enable l'output scrolling)\n",
    "\n",
    "There are 3 different (and independant) parts in this notebook:\n",
    "- 1) Add your genotypes in the databases  + Rebuild LMT events from .sqlite databases + Create .csv for LWTools\n",
    "    - 1.1) a cell to change the name of the genotypes in the database to see them in the analysis\n",
    "    - 1.2) a cell to split the week-end databases to have several databases rather than one which will lead to a faster exportation files\n",
    "    - 1.3) a cell to change the timebin of the .csv file\n",
    "- 2) Merging the .csv files\n",
    "- 3) The LMT Widget Tool\n",
    "\n",
    "In a classic example, we run Cell **1)** once for all the .sqlite databases to change the name of the Genotypes. Then, we run Cell **1.1)** to split the databases which have more than one night. Then, we run Cell **1.2)** to select all of the databases to rebuild and export them (with 10min timebins). Then, we  merge the .csv files with cell **2)**.\n",
    "And then, we ONLY use cell **3)** to analyze and visualize the results."
   ]
  },
  {
   "cell_type": "markdown",
   "id": "03917176-874f-4dbd-a528-8da60aeaa757",
   "metadata": {
    "tags": []
   },
   "source": [
    "---\n",
    "## 1) Launch this cell to change the name of your Genotypes to facilitate the analysis\n",
    "#### You will have to do it for each of your databases\n",
    "- 'Selected_ID' : Choose the ID of the Genotype you want to change\n",
    "- 'Genotype' : Type your Genotype then click on 'Run Interact'\n",
    "- 'Close Connection': Use it when you have changed all of your Genotypes to close the connection of the database before launching again the same cell to add others Genotypes in another database\n"
   ]
  },
  {
   "cell_type": "code",
   "execution_count": null,
   "id": "f89bedcd-d9d7-46f4-8445-6f5b74a3b1e6",
   "metadata": {},
   "outputs": [],
   "source": [
    "from LWT_ChangeGenotype import *\n",
    "\n",
    "ChangeGenotypes()"
   ]
  },
  {
   "cell_type": "markdown",
   "id": "6383dab9-485c-4392-9989-5a52b42590c5",
   "metadata": {},
   "source": [
    "---\n",
    "\n",
    "## 1.1) Build the nights for each databases\n",
    "\n",
    "#### Launch this cell to build the events 'night':\n",
    "- 'night' : 'Yes' is recommanded to rebuild the nights\n",
    "- 'startNightInput' and 'endNightInput' : Example for the time of the beginning (17:30:00) or of the end of the night (05:30:00)"
   ]
  },
  {
   "cell_type": "code",
   "execution_count": null,
   "id": "db3c814c-8164-47ee-8adf-e2a6e3c24327",
   "metadata": {},
   "outputs": [],
   "source": [
    "from LWT_Rebuild_Plus_Export import *\n",
    "\n",
    "night, startNightInput, endNightInput = NightInputs()\n",
    "\n",
    "for file in files:\n",
    "    CreateNights(file, night, startNightInput, endNightInput)"
   ]
  },
  {
   "cell_type": "markdown",
   "id": "9e39eb31-985b-470f-9192-cb9fac55f329",
   "metadata": {},
   "source": [
    "---\n",
    "## 1.2) Launch this cell to split the databases that contain more than 1 night (like week-ends)\n",
    "#### You will have to do it for each of the databases that are week-ends (your databases that have more than 1 night)\n",
    "#### Duration time : 20~30 minutes per database of 3 nights"
   ]
  },
  {
   "cell_type": "code",
   "execution_count": null,
   "id": "b3057883-6b42-448b-bff9-b5089e5704f8",
   "metadata": {},
   "outputs": [],
   "source": [
    "from LWT_DataSplit import *\n",
    "\n",
    "# Launch SplitDatabase() function :\n",
    "SplitDatabase()"
   ]
  },
  {
   "cell_type": "markdown",
   "id": "dfc7ba54-cf09-4d2c-b8a4-1b0c34d4acde",
   "metadata": {},
   "source": [
    "---\n",
    "## 1.3) Rebuild the events with nights + create csv files\n",
    "\n",
    "#### Questions for the .py file :\n",
    "- 'buildEvents' : 'Yes' is recommanded to rebuild the events\n",
    "- 'timeBinsDuration' : You have to choose the number of timebins to analyze your nights. If you use a timebin of 1hour (108000 frames) and your night is about 12 hours, you will then have 12 timebins.\n",
    "#### Our recommandation is to use a timebin if 10 minutes (18000 frames) to have more accuracy for the analyzis. Or even 5min, it is faster to gather 2 bins of 5min later on, than to reprocess everything."
   ]
  },
  {
   "cell_type": "code",
   "execution_count": null,
   "id": "248f20ab-a5b8-466b-ad8b-d2cdf01c8098",
   "metadata": {
    "scrolled": true,
    "tags": []
   },
   "outputs": [
    {
     "name": "stdin",
     "output_type": "stream",
     "text": [
      "Do you want to rebuild the Events ? Yes\n",
      "Enter the TIMEBIN for ALL the files (1min =  1800 frames / 1h = 108000 frames):  18000\n",
      "Do you want to use the Nights from the .sqlite files to computes the data ? ('Yes'/'No'):  Yes\n"
     ]
    },
    {
     "name": "stdout",
     "output_type": "stream",
     "text": [
      "Processing file, please wait...\n",
      "index animalIndex already exists\n",
      "index detectionIndex already exists\n",
      "index detetIdIndex already exists\n",
      "index detframenumberIndex already exists\n",
      "index eventEndFrameIndex already exists\n",
      "index eventIndex already exists\n",
      "index eventStartFrameIndex already exists\n",
      "index eventstartendIndex already exists\n",
      "index indexeventidIndex already exists\n",
      "index detectionFastLoadXYIndex already exists\n"
     ]
    },
    {
     "name": "stderr",
     "output_type": "stream",
     "text": [
      "Night 1 - Bins:  63%|████████████████████████████████▉                   | 45/71 [2:18:33<52:14, 120.56s/it, Bin=46/71]"
     ]
    }
   ],
   "source": [
    "# Importing the file\n",
    "from LWT_Rebuild_Plus_Export import *\n",
    "\n",
    "buildEvents, timeBinsDuration, useNights = RebuildInputs()\n",
    "\n",
    "for file in files:\n",
    "    Rebuild(file, files, buildEvents)\n",
    "    Export(count, file, files, timeBinsDuration, useNights)\n",
    "    count += 1"
   ]
  },
  {
   "cell_type": "markdown",
   "id": "01cb74d9-34ac-43a6-975d-eea22a484189",
   "metadata": {
    "tags": []
   },
   "source": [
    "---\n",
    "## 1.4) Launch this cell ONLY if you want to create csv files with other timebin\n",
    "#### WARNING : ! It takes a lot of time to process, be sure before doing it !"
   ]
  },
  {
   "cell_type": "code",
   "execution_count": null,
   "id": "a0383083-e836-4cb5-a6c8-153add40c4b6",
   "metadata": {
    "scrolled": true,
    "tags": []
   },
   "outputs": [],
   "source": [
    "from LWT_Export import *\n",
    "\n",
    "Export()"
   ]
  },
  {
   "cell_type": "markdown",
   "id": "cd027eda-064d-4c98-b88f-715e8185859c",
   "metadata": {
    "tags": []
   },
   "source": [
    "---\n",
    "## 2) Merging the .csv files:\n",
    "- Select the folder where your .csv files have been created\n",
    "- First question: Enter the **name of the folder** where your files will be stored\n",
    "- Second question: Enter the **name of your Merged file** containing all your data, this is the file you'll use in the cell 3"
   ]
  },
  {
   "cell_type": "code",
   "execution_count": null,
   "id": "27e7f6ad-f065-46bb-844e-dff4b146c9b5",
   "metadata": {},
   "outputs": [],
   "source": [
    "from LWT_Merge_csv import *\n",
    "\n",
    "Merge()"
   ]
  },
  {
   "cell_type": "markdown",
   "id": "09fd8cb1-f979-42b1-97cb-fd95c30bf5dd",
   "metadata": {},
   "source": [
    "---\n",
    "## 3) The LWT tool:\n",
    "- To analyze the 'Distance': select 'Event duration' in the 'Type' cell of the 'Animal' tab\n",
    "\n",
    "There are 3 tabs in this widget:\n",
    "- *Animals*: \n",
    "    - \"Behavior to analyze\" : To select the events that will appear\n",
    "    - \"Type\" : To select the data, if you want to select \"Number of events\" or \"Event duration\"\n",
    "- *Plot*:\n",
    "    - \"Bins\" : The selection of the bins you want to analyze (for exemple, if you want to analyze the first 10 bins, you will have to select 0 to 10)\n",
    "    - \"Injection\" : The selection of the injection(s) you want to analyze\n",
    "    - \"Cage\" : The selection of the cage(s) you want to analyze\n",
    "    - \"Night_Phase\" : The selection of the nights you want to analyze\n",
    "    - \"Event\" : The event you want to analyze\n",
    "    - \"Folder name\" : If you want to export the plots, just enter a folder name in this part\n",
    "- *Stats*:\n",
    "    - \"Bins\" : The selection of the bins you want to analyze (for exemple, if you want to analyze the first 10 bins, you will have to select 0 to 10)\n",
    "    - \"Genotypes\" : The selection of the Genotypes you want to analyze\n",
    "    - \"Injection\" : The selection of the injection(s) you want to analyze\n",
    "    - \"Cage\" : The selection of the cage(s) you want to analyze\n",
    "    - \"Night_Phase\" : The selection of the nights you want to analyze\n",
    "    - \"Event\" : The event you want to analyze\n",
    "    - \"Folder name\" : If you want to export the plots of the stats, just enter a folder name in this part\n",
    "    - \"Data exportation\" : Here you can export the data used for the plots, the file will be exported in your current path .../LMT/scripts/ and a new folder named \"results\" will be created, your file will be found here"
   ]
  },
  {
   "cell_type": "code",
   "execution_count": null,
   "id": "3e239c02-041f-4038-a2f7-ad284450aec1",
   "metadata": {},
   "outputs": [],
   "source": [
    "from LWT_Fonct import *\n",
    "\n",
    "Start_Analyzis()"
   ]
  },
  {
   "cell_type": "code",
   "execution_count": null,
   "id": "ac76a85d-7429-4e18-8484-2e8b8fa6412f",
   "metadata": {},
   "outputs": [],
   "source": []
  }
 ],
 "metadata": {
  "kernelspec": {
   "display_name": "Python 3 (ipykernel)",
   "language": "python",
   "name": "python3"
  },
  "language_info": {
   "codemirror_mode": {
    "name": "ipython",
    "version": 3
   },
   "file_extension": ".py",
   "mimetype": "text/x-python",
   "name": "python",
   "nbconvert_exporter": "python",
   "pygments_lexer": "ipython3",
   "version": "3.10.11"
  }
 },
 "nbformat": 4,
 "nbformat_minor": 5
}
