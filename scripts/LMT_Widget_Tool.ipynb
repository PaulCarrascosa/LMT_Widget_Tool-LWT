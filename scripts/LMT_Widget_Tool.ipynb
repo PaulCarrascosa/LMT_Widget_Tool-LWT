{
 "cells": [
  {
   "cell_type": "markdown",
   "id": "b66df5ec-33fb-4512-99e7-aab71dad3eeb",
   "metadata": {},
   "source": [
    "# Read Me First !\n",
    "\n",
    "### !! WARNING !! : First of all, you should 'Enable Scrolling for Outputs' by right-clicking on Jupyter Lab\n",
    "\n",
    "There are 5 different (and independant) parts in this notebook:\n",
    "### 1) Add your genotypes in the databases (+ Build the nights if your database is more than one night + Split the database if your database is more than one night, if needed)\n",
    "- 1 Change the name of the genotypes in the database so you can select them in the analysis.\n",
    "- 1.1 Build the nights in the databases that are more than one night.\n",
    "- 1.2 Split the databases that are more than one night to have several databases rather than one which will lead to a faster exportation files.\n",
    "### 2) Rebuild LMT events from .sqlite databases + Create .csv for the analysis\n",
    "- 2 Rebuild the LMT events + Exportation into CSV files. Be sure when you enter your timebins, the smaller the timebins, the longer the export time.\n",
    "- 2.1 This cell is if you want to have different timebins for the analysis. You should start with 5 timebins (bins of 5 minutes) first or 10 timebins (bins of 10 minutes) but if you want bin of 30 you can do it. The smaller the timebins, the longer the export time too.\n",
    "### 3) Merging the .csv files\n",
    "- 3 With all the CSV files created, you will have to select them all to merge them. Your files will be moved into the file you will create and the merged file will be in the same folder.\n",
    "### 4) LMT-Indexer\n",
    "- 4 For the index, you will have to select the genotypes you want to be the index, it will be computed in relation to it.\n",
    "### 5) LWTool\n",
    "- 5 Finally arrived to the tool ! Here you can launch the analysis\n",
    "\n",
    "### !! WARNING !! : All the files and folders will be automatically created in the folder 'scripts'\n",
    "\n",
    "In a classic example, we run Cell **1)** once for all the .sqlite databases to change the name of the Genotypes. Then, we run Cell **1.1)** to build the nights for the databases that are more than one night, then we run Cell **1.2)** to split the databases that are more than one night, then we run Cell **2)** to select all of the databases to rebuild and export them (with 10min timebins). Then, we  merge the .csv files with Cell **3)**. Then we create the index with Cell **4)** and then, we ONLY use cell **5)** to analyze and visualize the results."
   ]
  },
  {
   "cell_type": "markdown",
   "id": "03917176-874f-4dbd-a528-8da60aeaa757",
   "metadata": {
    "tags": []
   },
   "source": [
    "---\n",
    "## 1) Change the name of your Genotypes to facilitate the analysis\n",
    "#### You will have to do it for each of your databases\n",
    "- 'Selected_ID' : Choose the ID of the Genotype you want to change\n",
    "- 'Genotype' : Type your Genotype then click on 'Run Interact'\n",
    "- 'Close Connection': Use it when you have changed all of your Genotypes to close the connection of the database before launching again the same cell to add others Genotypes in another database\n"
   ]
  },
  {
   "cell_type": "code",
   "execution_count": null,
   "id": "f89bedcd-d9d7-46f4-8445-6f5b74a3b1e6",
   "metadata": {},
   "outputs": [],
   "source": [
    "from LWT_ChangeGenotype import *\n",
    "\n",
    "ChangeGenotypes()"
   ]
  },
  {
   "cell_type": "markdown",
   "id": "6383dab9-485c-4392-9989-5a52b42590c5",
   "metadata": {},
   "source": [
    "---\n",
    "\n",
    "## 1.1) Build the nights for each databases\n",
    "\n",
    "#### Launch this cell to build the events 'night':\n",
    "- 'night' : 'Yes' is recommanded to rebuild the nights\n",
    "- 'startNightInput' and 'endNightInput' : Example for the time of the beginning (17:30:00) or of the end of the night (05:30:00)"
   ]
  },
  {
   "cell_type": "code",
   "execution_count": null,
   "id": "db3c814c-8164-47ee-8adf-e2a6e3c24327",
   "metadata": {},
   "outputs": [],
   "source": [
    "from LWT_Rebuild_Plus_Export import *\n",
    "\n",
    "night, startNightInput, endNightInput = NightInputs()\n",
    "\n",
    "for file in files:\n",
    "    CreateNights(file, night, startNightInput, endNightInput)"
   ]
  },
  {
   "cell_type": "markdown",
   "id": "9e39eb31-985b-470f-9192-cb9fac55f329",
   "metadata": {},
   "source": [
    "---\n",
    "## 1.2) Split the databases that contain more than 1 night (like week-ends)\n",
    "#### You will have to do it for each of the databases that are week-ends (your databases that have more than 1 night)\n",
    "#### Duration time : 20~30 minutes per database of 3 nights"
   ]
  },
  {
   "cell_type": "code",
   "execution_count": null,
   "id": "7ff7aba8-6dad-4992-8f55-4a33f24abab8",
   "metadata": {},
   "outputs": [],
   "source": [
    "from LWT_DataSplit_v2 import *\n",
    "\n",
    "# Launch SplitDatabase() function :\n",
    "SplitDatabase()"
   ]
  },
  {
   "cell_type": "markdown",
   "id": "dfc7ba54-cf09-4d2c-b8a4-1b0c34d4acde",
   "metadata": {},
   "source": [
    "---\n",
    "## 2) Rebuild the events with nights + create csv files\n",
    "\n",
    "#### Questions for the .py file :\n",
    "- 'buildEvents' : 'Yes' is recommanded to rebuild the events\n",
    "- 'timeBinsDuration' : You have to choose the number of timebins to analyze your nights. If you use a timebin of 1hour (108000 frames) and your night is about 12 hours, you will then have 12 timebins.\n",
    "#### Our recommandation is to use a timebin if 10 minutes (18000 frames) to have more accuracy for the analyzis. Or even 5min, it is faster to gather 2 bins of 5min later on, than to reprocess everything."
   ]
  },
  {
   "cell_type": "code",
   "execution_count": null,
   "id": "248f20ab-a5b8-466b-ad8b-d2cdf01c8098",
   "metadata": {
    "scrolled": true,
    "tags": []
   },
   "outputs": [],
   "source": [
    "# Importing the file\n",
    "from LWT_Rebuild_Plus_Export import *\n",
    "\n",
    "buildEvents, timeBinsDuration, useNights = RebuildInputs()\n",
    "\n",
    "for file in files:\n",
    "    Rebuild(file, files, buildEvents)\n",
    "    Export(count, file, files, timeBinsDuration, useNights)\n",
    "    count += 1"
   ]
  },
  {
   "cell_type": "markdown",
   "id": "01cb74d9-34ac-43a6-975d-eea22a484189",
   "metadata": {
    "tags": []
   },
   "source": [
    "---\n",
    "## 2.1) Launch this cell ONLY if you want to create csv files with other timebin\n",
    "#### WARNING : ! It takes a lot of time to process, be sure before doing it !"
   ]
  },
  {
   "cell_type": "code",
   "execution_count": null,
   "id": "a0383083-e836-4cb5-a6c8-153add40c4b6",
   "metadata": {
    "scrolled": true,
    "tags": []
   },
   "outputs": [],
   "source": [
    "from LWT_Export import *\n",
    "\n",
    "Export()"
   ]
  },
  {
   "cell_type": "markdown",
   "id": "cd027eda-064d-4c98-b88f-715e8185859c",
   "metadata": {
    "tags": []
   },
   "source": [
    "---\n",
    "## 3) Merging the .csv files:\n",
    "- Select the folder where your .csv files have been created\n",
    "- First question: Enter the **name of the folder** where your files will be stored\n",
    "- Second question: Enter the **name of your Merged file** containing all your data, this is the file you'll use in the cell 3"
   ]
  },
  {
   "cell_type": "code",
   "execution_count": null,
   "id": "27e7f6ad-f065-46bb-844e-dff4b146c9b5",
   "metadata": {},
   "outputs": [],
   "source": [
    "from LWT_Merge_csv import *\n",
    "\n",
    "Merge()"
   ]
  },
  {
   "cell_type": "markdown",
   "id": "218ef4dd-4066-4c50-876f-babe73f936e4",
   "metadata": {},
   "source": [
    "---\n",
    "## 4) LMT-INDEXER\n",
    "\n",
    "For each Cage, you will have to select the Genotype you want to be used for the Index."
   ]
  },
  {
   "cell_type": "code",
   "execution_count": null,
   "id": "630ab4aa-7522-4b8c-a60d-f305ca5e0cd4",
   "metadata": {},
   "outputs": [],
   "source": [
    "from LWT_Indexer import *\n",
    "\n",
    "Create_indexer()"
   ]
  },
  {
   "cell_type": "markdown",
   "id": "09fd8cb1-f979-42b1-97cb-fd95c30bf5dd",
   "metadata": {},
   "source": [
    "---\n",
    "## 5) The LWT tool:\n",
    "\n",
    "There are 3 tabs in this widget:\n",
    "- Animals : \n",
    "    - \"Behavior to analyze\" : Select the events that will appear\n",
    "    - \"Type\" : Select the data, if you want to select \"Number of events\" or \"Event duration\"\n",
    "- Plot :\n",
    "    - \"Bins\" : Selection of the bins you want to analyze (for exemple, if you want to analyze the first 10 bins, you will have to select 0 to 10)\n",
    "    - \"Injection\" : Selection of the injection(s) you want to analyze\n",
    "    - \"Cage\" : Selection of the cage(s) you want to analyze\n",
    "    - \"Event\" : Event you want to analyze\n",
    "    - \"Folder name\" : If you want to export the plots, just enter a folder name in this part then click 'Plots exportation'\n",
    "- Stats :\n",
    "    - \"Bins\" : Selection of the bins you want to analyze (for exemple, if you want to analyze the first 10 bins, you will have to select 0 to 10)\n",
    "    - \"Genotypes\" : Selection of the Genotypes you want to analyze\n",
    "    - \"Injection\" : Selection of the injection(s) you want to analyze\n",
    "    - \"Cage\" : Selection of the cage(s) you want to analyze\n",
    "    - \"Event\" : Event you want to analyze\n",
    "    - \"Folder name\" : If you want to export the plots of the stats, just enter a folder name in this part\n",
    "    - \"Data exportation\" : Here you can export the data used for the stats plots, the file will be exported in your current path .../LMT/scripts/ <br> and a new folder named \"results\" will be created, your file will be found here"
   ]
  },
  {
   "cell_type": "code",
   "execution_count": null,
   "id": "3e239c02-041f-4038-a2f7-ad284450aec1",
   "metadata": {},
   "outputs": [],
   "source": [
    "from LWT_Fonct import *\n",
    "\n",
    "Start_Analysis()"
   ]
  },
  {
   "cell_type": "code",
   "execution_count": null,
   "id": "05997634-7c05-45c1-8f1a-bd10dd833e6b",
   "metadata": {},
   "outputs": [],
   "source": []
  }
 ],
 "metadata": {
  "kernelspec": {
   "display_name": "Python 3 (ipykernel)",
   "language": "python",
   "name": "python3"
  },
  "language_info": {
   "codemirror_mode": {
    "name": "ipython",
    "version": 3
   },
   "file_extension": ".py",
   "mimetype": "text/x-python",
   "name": "python",
   "nbconvert_exporter": "python",
   "pygments_lexer": "ipython3",
   "version": "3.10.11"
  }
 },
 "nbformat": 4,
 "nbformat_minor": 5
}
