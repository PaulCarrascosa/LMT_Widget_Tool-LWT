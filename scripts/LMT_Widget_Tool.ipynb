{
 "cells": [
  {
   "cell_type": "markdown",
   "id": "8d7ce744-3e4f-402f-a1b7-48595507bee2",
   "metadata": {},
   "source": [
    "## 0. Packages to download before launching the tool"
   ]
  },
  {
   "cell_type": "code",
   "execution_count": null,
   "id": "efbaafec-bc94-4b56-ba00-861002a172d7",
   "metadata": {},
   "outputs": [],
   "source": [
    "# Launch to install packages\n",
    "\n",
    "!pip install matplotlib\n",
    "!pip install pandas\n",
    "!pip install seaborn\n",
    "!pip install dabest\n",
    "!pip install statsmodels\n",
    "!pip install tabulate\n",
    "!pip install ipywidgets==8.0.3\n",
    "!pip install jupyterlab-pygments==0.2.2\n",
    "!pip install jupyterlab-widgets==3.0.8\n",
    "!pip install jupyterlab_server==2.23.0\n"
   ]
  },
  {
   "cell_type": "markdown",
   "id": "4e00d5b1-0275-4d52-9133-4722c1e1ea34",
   "metadata": {},
   "source": [
    "<!-- # 1. Importing all the files\n",
    "\n",
    "#### - Paul_Rebuild_Plus_Export to rebuild the databases and export data into csv files\n",
    "#### - Paul_Export to export data from database into csv files (if you want to try with another timebin without running again the rebuild\n",
    "#### - Paul_Merge_csv to merge all the created csv files into one csv file\n",
    "#### - Fonct_Ipaulwidgets to start using the package Ipywidgets -->"
   ]
  },
  {
   "cell_type": "markdown",
   "id": "dfc7ba54-cf09-4d2c-b8a4-1b0c34d4acde",
   "metadata": {},
   "source": [
    "## 1. Rebuild the event with nights plus creating csv files\n",
    "\n",
    "#### Questions for the .py file :\n",
    "#### 'buildEvents' and 'night' : 'Yes' is recommanded to rebuild the events and the nights\n",
    "#### 'startNightInput' and 'endNightInput' : Example for the time of the beginning (17:30:00) or of the end of the night (05:30:00)\n",
    "#### 'timeBinsDuration' : You have to choose the number of timebins to analyze your nights. If you use a timebin of 1hour (108000 frames)\n",
    "#### and your night is about 12 hours, you will have 12 timebins of one hour.\n",
    "#### Our recommandation is to use a timebin if 10 minutes (18000 frames) to have more accuracy for the analyzis."
   ]
  },
  {
   "cell_type": "markdown",
   "id": "9bea6bcc-2179-4a18-ae69-3a196d99ac2c",
   "metadata": {
    "tags": []
   },
   "source": [
    "## Launch the cell below :"
   ]
  },
  {
   "cell_type": "code",
   "execution_count": null,
   "id": "248f20ab-a5b8-466b-ad8b-d2cdf01c8098",
   "metadata": {
    "scrolled": true,
    "tags": []
   },
   "outputs": [],
   "source": [
    "# Importing the file\n",
    "from LWT_Rebuild_Plus_Export import *\n",
    "\n",
    "# Select databases to rebuild and create csv\n",
    "\n",
    "files = getFilesToProcess()\n",
    "\n",
    "# Questions for the rebuild of the databases\n",
    "\n",
    "buildEvents = input(\"Do you want to rebuild the Events ?\")\n",
    "confirmEvents = input(\"Do you confirm ? \")\n",
    "night = input(\"Do you want to rebuild the night ? Yes (Y) or No (N) :\")\n",
    "startNightInput = input(\"Time of the beginning of the night (hh:mm:ss):\")\n",
    "endNightInput = input(\"Time of the end of the night (hh:mm:ss):\")\n",
    "\n",
    "# Questions for the creation of the csv files\n",
    "\n",
    "timeBinsDuration = int(input(\"Enter the TIMEBIN for ALL the files (1min =  1800 frames / 1h = 108000 frames): \"))\n",
    "useNights = input(\"Do you want to use the Nights from the .sqlite files to computes the data ? ('Yes'/'No'): \")\n",
    "\n",
    "count = 0\n",
    "print(files)\n",
    "\n",
    "for file in files:\n",
    "    rebuild(file, files, buildEvents, night, startNightInput, endNightInput)\n",
    "    Export(count, file, files, timeBinsDuration, useNights)\n",
    "    count += 1\n"
   ]
  },
  {
   "cell_type": "markdown",
   "id": "01cb74d9-34ac-43a6-975d-eea22a484189",
   "metadata": {
    "tags": []
   },
   "source": [
    "## 1.1 Launch this cell ONLY if you want to create csv files with other timebin\n",
    "### WARNING : ! It takes a lot of time to process, be sure before doing it !"
   ]
  },
  {
   "cell_type": "code",
   "execution_count": null,
   "id": "a0383083-e836-4cb5-a6c8-153add40c4b6",
   "metadata": {
    "scrolled": true,
    "tags": []
   },
   "outputs": [],
   "source": [
    "# Importing the file\n",
    "from LWT_Export import *\n",
    "\n",
    "Export()\n"
   ]
  },
  {
   "cell_type": "markdown",
   "id": "cd027eda-064d-4c98-b88f-715e8185859c",
   "metadata": {
    "tags": []
   },
   "source": [
    "## 2. This cell is for the Merge process after the creation of the \".csv\" files.\n",
    "#### The folder selection is where your .csv files have been created\n",
    "#### The first question is for the name of the folder which will be created where your files will be moved.\n",
    "#### The second question is for the name of your Merge file which will be created and placed into the new folder created."
   ]
  },
  {
   "cell_type": "code",
   "execution_count": null,
   "id": "27e7f6ad-f065-46bb-844e-dff4b146c9b5",
   "metadata": {},
   "outputs": [],
   "source": [
    "# Importing the file\n",
    "from LWT_Merge_csv import *\n",
    "\n",
    "# Launch Merge() function :\n",
    "Merge()\n"
   ]
  },
  {
   "cell_type": "markdown",
   "id": "09fd8cb1-f979-42b1-97cb-fd95c30bf5dd",
   "metadata": {},
   "source": [
    "## 3. Launch the following cell to start the tool"
   ]
  },
  {
   "cell_type": "code",
   "execution_count": 2,
   "id": "3e239c02-041f-4038-a2f7-ad284450aec1",
   "metadata": {},
   "outputs": [
    {
     "data": {
      "application/vnd.jupyter.widget-view+json": {
       "model_id": "a5384afe41e84ee28fbbb60c8e02f762",
       "version_major": 2,
       "version_minor": 0
      },
      "text/plain": [
       "Tab(children=(VBox(children=(SelectMultiple(description='Behaviors to analyze', layout=Layout(width='330px'), …"
      ]
     },
     "metadata": {},
     "output_type": "display_data"
    },
    {
     "data": {
      "application/vnd.jupyter.widget-view+json": {
       "model_id": "6663ffdc91d444d2be6f9ae73fba956e",
       "version_major": 2,
       "version_minor": 0
      },
      "text/plain": [
       "Output()"
      ]
     },
     "metadata": {},
     "output_type": "display_data"
    },
    {
     "data": {
      "application/vnd.jupyter.widget-view+json": {
       "model_id": "b804f714a89648c98652c8c1bb1a3ba3",
       "version_major": 2,
       "version_minor": 0
      },
      "text/plain": [
       "Output()"
      ]
     },
     "metadata": {},
     "output_type": "display_data"
    }
   ],
   "source": [
    "from LWT_Fonct import *\n",
    "\n",
    "# Launch to analyze the data\n",
    "display(tab1)\n",
    "interactive_plot = widgets.interactive_output(update_dropdown, \n",
    "                                              {'date': drop_injection_plot,\n",
    "                                               'cage': drop_cage_plot, \n",
    "                                               'night_phase': drop_night_plot, \n",
    "                                               'event': drop_event, \n",
    "                                               'range_slide_plot': range_slide_plot})\n",
    "display(interactive_plot)\n",
    "\n",
    "interactive_stats = widgets.interactive_output(update_stats, \n",
    "                                               {'date': drop_injection_stat, \n",
    "                                                'cage': drop_cage_stat, \n",
    "                                                'night_phase': drop_night_stat, \n",
    "                                                'event': drop_event, \n",
    "                                                'choice_type':choicetype, \n",
    "                                                'stats_type':statstype, \n",
    "                                                'range_slide_stats': range_slide_stats})\n",
    "display(interactive_stats)\n",
    "\n"
   ]
  },
  {
   "cell_type": "code",
   "execution_count": null,
   "id": "1428bd2f-57a2-43d0-8d3e-83556a55fb10",
   "metadata": {},
   "outputs": [],
   "source": []
  }
 ],
 "metadata": {
  "kernelspec": {
   "display_name": "Python 3 (ipykernel)",
   "language": "python",
   "name": "python3"
  },
  "language_info": {
   "codemirror_mode": {
    "name": "ipython",
    "version": 3
   },
   "file_extension": ".py",
   "mimetype": "text/x-python",
   "name": "python",
   "nbconvert_exporter": "python",
   "pygments_lexer": "ipython3",
   "version": "3.10.8"
  }
 },
 "nbformat": 4,
 "nbformat_minor": 5
}
